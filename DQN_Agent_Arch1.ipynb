{
 "cells": [
  {
   "cell_type": "markdown",
   "metadata": {},
   "source": [
    "# Cab-Driver Agent\n",
    "\n",
    "    The goal is to build an RL-based algorithm which can help cab drivers maximise their profits by improving their decision-making process. \n",
    "    \n",
    "steps followed:\n",
    "\n",
    "    1. Creating environment\n",
    "    2. Defining epsilon-greedy strategy\n",
    "    3. Creating DQN architecture1 for agent \n",
    "    4. Tracking state-action pairs and reward of episodes for convergence\n"
   ]
  },
  {
   "cell_type": "code",
   "execution_count": 1,
   "metadata": {},
   "outputs": [],
   "source": [
    "# Importing libraries\n",
    "import numpy as np\n",
    "import random\n",
    "import math\n",
    "from collections import deque\n",
    "import collections\n",
    "import pickle\n",
    "import pylab\n",
    "import time\n",
    "\n",
    "# for building DQN model\n",
    "from keras import layers\n",
    "from keras import Sequential\n",
    "from keras.layers import Dense, Activation, Flatten\n",
    "from keras.optimizers import Adam\n",
    "\n",
    "# for plotting graphs\n",
    "import matplotlib.pyplot as plt\n"
   ]
  },
  {
   "cell_type": "code",
   "execution_count": 2,
   "metadata": {},
   "outputs": [],
   "source": [
    "# Import the environment\n",
    "from Env import CabDriver"
   ]
  },
  {
   "cell_type": "markdown",
   "metadata": {},
   "source": [
    "#### Defining Time Matrix"
   ]
  },
  {
   "cell_type": "code",
   "execution_count": 3,
   "metadata": {},
   "outputs": [
    {
     "data": {
      "text/plain": [
       "(5, 5, 24, 7)"
      ]
     },
     "execution_count": 3,
     "metadata": {},
     "output_type": "execute_result"
    }
   ],
   "source": [
    "# Loading the time matrix provided\n",
    "Time_matrix = np.load(\"TM.npy\")\n",
    "Time_matrix.shape"
   ]
  },
  {
   "cell_type": "markdown",
   "metadata": {},
   "source": [
    "#### Tracking the state-action pairs for checking convergence\n"
   ]
  },
  {
   "cell_type": "code",
   "execution_count": 4,
   "metadata": {},
   "outputs": [],
   "source": [
    "def track_state(state):\n",
    "    return ('-'.join(str(e) for e in state))\n",
    "\n",
    "def track_action(action):\n",
    "    return ('-'.join(str(e) for e in action))"
   ]
  },
  {
   "cell_type": "code",
   "execution_count": 5,
   "metadata": {},
   "outputs": [
    {
     "data": {
      "text/plain": [
       "'1-13-4'"
      ]
     },
     "execution_count": 5,
     "metadata": {},
     "output_type": "execute_result"
    }
   ],
   "source": [
    "# eg\n",
    "state = (1,13,4)\n",
    "track_state(state)"
   ]
  },
  {
   "cell_type": "code",
   "execution_count": 6,
   "metadata": {},
   "outputs": [],
   "source": [
    "# Initialise states to be tracked\n",
    "def initialise_tracking_states():\n",
    "    sample_Qvalues = [('3-0-0', '3-1'),('3-0-0', '3-2'), ('3-0-0', '2-3'),('3-0-0', '3-4'),\n",
    "                      ('3-0-0', '4-0'),('3-0-0', '4-1'),('3-0-0', '4-2'),('3-0-0', '4-3')]    \n",
    "    for q_value in sample_Qvalues:\n",
    "        state = q_value[0]\n",
    "        action = q_value[1]\n",
    "        States_track[state][action] = []\n",
    "       "
   ]
  },
  {
   "cell_type": "code",
   "execution_count": 7,
   "metadata": {},
   "outputs": [],
   "source": [
    "# save Q-vqlue for tracking state \n",
    "#curr_state = '3-0-4'\n",
    "#curr_action = '2-1'\n",
    "#q_action = '3-2'\n",
    "def save_tracking_states(curr_state, curr_action, q_action):\n",
    "    for state in States_track.keys():\n",
    "        if state == curr_state:\n",
    "            for action in States_track[state].keys():\n",
    "                if action == curr_action:\n",
    "                    States_track[state][action].append(q_action)\n",
    "\n",
    "#save_tracking_states(curr_state, curr_action, q_action)                    for checking"
   ]
  },
  {
   "cell_type": "markdown",
   "metadata": {},
   "source": [
    "### Agent Class\n",
    "\n",
    "If you are using this framework, you need to fill the following to complete the following code block:\n",
    "1. State and Action Size\n",
    "2. Hyperparameters\n",
    "3. Create a neural-network model in function 'build_model()'\n",
    "4. Define epsilon-greedy strategy in function 'get_action()'\n",
    "5. Complete the function 'append_sample()'. This function appends the recent experience tuple <state, action, reward, new-state> to the memory\n",
    "6. Complete the 'train_model()' function with following logic:\n",
    "   - If the memory size is greater than mini-batch size, you randomly sample experiences from memory as per the mini-batch size and do the following:\n",
    "      - Initialise your input and output batch for training the model\n",
    "      - Calculate the target Q value for each sample: reward + gamma*max(Q(s'a,))\n",
    "      - Get Q(s', a) values from the last trained model\n",
    "      - Update the input batch as your encoded state and output batch as your Q-values\n",
    "      - Then fit your DQN model using the updated input and output batch."
   ]
  },
  {
   "cell_type": "code",
   "execution_count": 8,
   "metadata": {},
   "outputs": [],
   "source": [
    "class DQNAgent:\n",
    "    def __init__(self, state_size, action_size):\n",
    "        # Define size of state and action\n",
    "        self.state_size = state_size\n",
    "        self.action_size = action_size\n",
    "\n",
    "        # Write here: Specify you hyper parameters for the DQN\n",
    "        self.discount_factor = 0.99\n",
    "        self.learning_rate = 0.001   \n",
    "        \n",
    "        self.epsilon = 1.0  # will get updated for each episode\n",
    "        self.epsilon_decay =  0.99     #-0.0005\n",
    "        self.epsilon_min = 0.01\n",
    "       # self.epsilon_max = 1.0\n",
    "        \n",
    "        self.batch_size = 32        \n",
    "        # create replay memory using deque\n",
    "        self.memory = deque(maxlen=2000)\n",
    "        \n",
    "        # create main model and target model\n",
    "        self.model = self.build_model()\n",
    "\n",
    "    # approximate Q function using Neural Network\n",
    "    def build_model(self):\n",
    "        model = Sequential()\n",
    "        # Write your code here: Add layers to your neural nets   \n",
    "        model.add(Dense(32, input_dim=self.state_size, activation='relu', kernel_initializer='he_uniform'))\n",
    "        model.add(Dense(32, activation='relu',kernel_initializer='he_uniform'))\n",
    "        \n",
    "        # output neurons = number of possible actions    \n",
    "        model.add(Dense(self.action_size, activation='relu',kernel_initializer='he_uniform'))\n",
    "        \n",
    "        model.compile(loss='mse',optimizer=Adam(lr=self.learning_rate))\n",
    "        model.summary\n",
    "        return model\n",
    "     \n",
    "        \n",
    "    def get_action(self, state ,index_pos_actions,time):\n",
    "        \"\"\" Choose action according to ε-greedy policy. If the generated number is less than ε,\n",
    "        we will explore, otherwise we will exploit the policy by choosing the\n",
    "        action which has maximum Q-value.\n",
    "        \"\"\"\n",
    "        #self.epsilon = self.epsilon_min + (self.epsilon_max - self.epsilon_min) * np.exp(self.epsilon_decay*time)\n",
    "        z = np.random.random()\n",
    "        # choose random action if generated random number is less than ε.\n",
    "        if z <= self.epsilon:\n",
    "            new_action = random.choice(index_pos_actions)  # Exploration\n",
    "        \n",
    "        # if generated random number is greater than ε, choose the action which has max Q-value\n",
    "        else:\n",
    "            # state into array format\n",
    "            state = env.state_encod_arch1(state)\n",
    "            state = np.reshape(state,[1,self.state_size])   # 5+24+7\n",
    "            q_value = self.model.predict(state)\n",
    "            # q-values of all possible actions\n",
    "            possible_q_value = [q_value[0][i] for i in index_pos_actions]\n",
    "            # returns index of maximum q-valued of action\n",
    "            new_action = index_pos_actions[np.argmax(possible_q_value)]\n",
    "        return new_action\n",
    "\n",
    "    def append_sample(self, state, action, reward, next_state, done):\n",
    "        # save sample <s,a,r,s'> to the replay memory\n",
    "        # Adding sample to the memory. \n",
    "        self.memory.append((state, action, reward, next_state, done))   \n",
    "     \n",
    "    # pick samples randomly from replay memory (with batch_size) and train the network\n",
    "    def train_model(self):\n",
    "        \n",
    "        if len(self.memory) > self.batch_size:\n",
    "            # Sample batch from the memory\n",
    "            mini_batch = random.sample(self.memory, self.batch_size)\n",
    "            # initialize input and output batch\n",
    "            update_input = np.zeros((self.batch_size,self.state_size))\n",
    "            update_output = np.zeros((self.batch_size,self.state_size))\n",
    "            actions, rewards,terminal = [], [],[]\n",
    "            \n",
    "            for i in range(self.batch_size):\n",
    "                state, action, reward, next_state,done= mini_batch[i]\n",
    "                actions.append(action)\n",
    "                rewards.append(reward)\n",
    "                terminal.append(done)\n",
    "                \n",
    "                # Update your 'update_output' and 'update_input' batch\n",
    "                update_input[i] = env.state_encod_arch1(state)\n",
    "                update_output[i] = env.state_encod_arch1(next_state)\n",
    "\n",
    "                 \n",
    "            # Predict the target from earlier model\n",
    "            target = self.model.predict(update_input)\n",
    "            # target for the Q-network\n",
    "            target_q_val = self.model.predict(update_output)\n",
    "   \n",
    "            # update the target values\n",
    "            for i in range(self.batch_size):\n",
    "                if terminal[i]:    # terminal state \n",
    "                    target[i][actions[i]] = rewards[i]\n",
    "                else: # non-terminal state\n",
    "                    target[i][actions[i]] = rewards[i] + self.discount_factor * max(target_q_val[i])\n",
    "           \n",
    "            # model fit\n",
    "            self.model.fit(update_input, target, batch_size=self.batch_size, epochs=1, verbose=0)\n",
    "            \n",
    "    #Defining a function to save the model weights as a pickle file        \n",
    "    def save_obj(self, name ):\n",
    "        with open(name + '.pkl', 'wb') as f:\n",
    "            pickle.dump(self.model.get_weights(), f, pickle.HIGHEST_PROTOCOL)\n",
    "    \n",
    "    "
   ]
  },
  {
   "cell_type": "markdown",
   "metadata": {},
   "source": [
    "### DQN block"
   ]
  },
  {
   "cell_type": "code",
   "execution_count": 9,
   "metadata": {},
   "outputs": [
    {
     "name": "stdout",
     "output_type": "stream",
     "text": [
      "Episode: 199  Reward : -221 memory length: 2000 epsilon: 0.13397967485796175\n",
      "Episode: 399  Reward : 61 memory length: 2000 epsilon: 0.017950553275045134\n",
      "Episode: 599  Reward : 179 memory length: 2000 epsilon: 0.009920974201040588\n",
      "Episode: 799  Reward : 147 memory length: 2000 epsilon: 0.009920974201040588\n",
      "Episode: 999  Reward : 307 memory length: 2000 epsilon: 0.009920974201040588\n",
      "Episode: 1199  Reward : 87 memory length: 2000 epsilon: 0.009920974201040588\n",
      "Episode: 1399  Reward : 436 memory length: 2000 epsilon: 0.009920974201040588\n",
      "Episode: 1599  Reward : 31 memory length: 2000 epsilon: 0.009920974201040588\n",
      "Episode: 1799  Reward : 350 memory length: 2000 epsilon: 0.009920974201040588\n",
      "Episode: 1999  Reward : 625 memory length: 2000 epsilon: 0.009920974201040588\n",
      "Episode: 2199  Reward : 407 memory length: 2000 epsilon: 0.009920974201040588\n",
      "Episode: 2399  Reward : 274 memory length: 2000 epsilon: 0.009920974201040588\n",
      "Episode: 2599  Reward : 798 memory length: 2000 epsilon: 0.009920974201040588\n",
      "Episode: 2799  Reward : 799 memory length: 2000 epsilon: 0.009920974201040588\n",
      "Episode: 2999  Reward : 396 memory length: 2000 epsilon: 0.009920974201040588\n",
      "Episode: 3199  Reward : 343 memory length: 2000 epsilon: 0.009920974201040588\n",
      "Episode: 3399  Reward : 690 memory length: 2000 epsilon: 0.009920974201040588\n",
      "Episode: 3599  Reward : 470 memory length: 2000 epsilon: 0.009920974201040588\n",
      "Episode: 3799  Reward : 798 memory length: 2000 epsilon: 0.009920974201040588\n",
      "Episode: 3999  Reward : 512 memory length: 2000 epsilon: 0.009920974201040588\n",
      "Episode: 4199  Reward : 299 memory length: 2000 epsilon: 0.009920974201040588\n",
      "Episode: 4399  Reward : 856 memory length: 2000 epsilon: 0.009920974201040588\n",
      "Episode: 4599  Reward : 731 memory length: 2000 epsilon: 0.009920974201040588\n",
      "Episode: 4799  Reward : 578 memory length: 2000 epsilon: 0.009920974201040588\n",
      "Episode: 4999  Reward : 709 memory length: 2000 epsilon: 0.009920974201040588\n",
      "28391.466697216034\n"
     ]
    }
   ],
   "source": [
    "\n",
    "episode_time = 24*30 #30 days before which car has to be recharged\n",
    "n_episodes = 5000   # 7000  #10000   #15000\n",
    "\n",
    "m = 5\n",
    "t = 24\n",
    "d = 7\n",
    "# Initialize - for tracking\n",
    "States_track = collections.defaultdict(dict)\n",
    "initialise_tracking_states() \n",
    "\n",
    "# Invoke Env class\n",
    "env = CabDriver()\n",
    "action_space, state_space, state = env.reset()\n",
    "\n",
    "\n",
    "# Set up state and action sizes.\n",
    "state_size = m+t+d\n",
    "action_size = len(env.action_space)\n",
    "\n",
    "# agent class\n",
    "agent = DQNAgent(state_size=state_size, action_size=action_size)\n",
    "\n",
    "# to track rewards in each episode\n",
    "rewards_per_episode = []\n",
    "\n",
    "start_time = time.time()\n",
    "\n",
    "for episode in range(n_episodes):\n",
    "    done = False\n",
    "    \n",
    "    # after each episode\n",
    "    env = CabDriver()\n",
    "    action_space, state_space, state = env.reset()\n",
    "\n",
    "    # reset at the start of each episode\n",
    "    total_time = 0  # Total time for an episode\n",
    "    trip_time =0 # time taken for each state\n",
    "    score = 0\n",
    "    init_state = state  # for tracking\n",
    "    \n",
    "    while not done:\n",
    "        # possible actions\n",
    "        possible_actions_indices, actions = env.requests(state)\n",
    "       \n",
    "        # apply epsilon-greedy approach to get an action from possible actions \n",
    "        action = agent.get_action(state, possible_actions_indices,episode)\n",
    "   \n",
    "        # find reward \n",
    "        reward = env.reward_func(state, env.action_space[action], Time_matrix)\n",
    "\n",
    "        #find next state\n",
    "        next_state,trip_time = env.next_state_func(state, env.action_space[action], Time_matrix)\n",
    "       \n",
    "        # time taken by the cab from start of the episode \n",
    "        total_time += trip_time\n",
    "        if (total_time > episode_time):\n",
    "            # when the battery needs to be recharged\n",
    "            done = True\n",
    "            # append the experience to the memory\n",
    "            agent.append_sample(state, action, reward, next_state, done)\n",
    "            score += reward\n",
    "   \n",
    "        else:\n",
    "            # append the experience to the memory\n",
    "            agent.append_sample(state, action, reward, next_state, done)\n",
    "            # Train the model \n",
    "            #agent.train_model()\n",
    "            score += reward\n",
    "            state = next_state\n",
    "\n",
    "          \n",
    "    # decay in ε \n",
    "    if agent.epsilon > agent.epsilon_min:\n",
    "        agent.epsilon *= agent.epsilon_decay    \n",
    "\n",
    "    # train the model\n",
    "    if (episode + 1) %  20 == 0:  # check this \n",
    "        agent.train_model()\n",
    "    \n",
    "    # store the reward and the episode for tracking\n",
    "    rewards_per_episode.append(score)\n",
    "       \n",
    "    # To track convergence\n",
    "    # change initial state format -- (1,0,0) to 1-0-0\n",
    "    save_track_state = track_state(init_state)\n",
    "    # encode initial state and convert into array\n",
    "    track_state_encode = env.state_encod_arch1(init_state)\n",
    "    track_state_encode = np.reshape(track_state_encode, [1, state_size])\n",
    "\n",
    "    # get Q-values from the model\n",
    "    save_q_values = agent.model.predict(track_state_encode)[0]\n",
    "   \n",
    "    for index in range(len(env.action_space)):\n",
    "        # changes each action -->(1,2) into 1-2  for tracking\n",
    "        save_track_action = track_action(env.action_space[index])\n",
    "        # to save tracked q-values of tracked states\n",
    "        save_tracking_states(save_track_state, save_track_action, save_q_values[index])\n",
    "    \n",
    "    \n",
    "    if (episode + 1) % 200 == 0:\n",
    "        print(\"Episode:\", episode, \" Reward :\", score, \"memory length:\", len(agent.memory), \"epsilon:\", agent.epsilon)\n",
    "    \n",
    "    if (episode + 1) % 500 == 0:\n",
    "        # saves the model\n",
    "        agent.save_obj(\"cardriver_DQN_arch1\"+ str(score))\n",
    "        #save_obj(agent.model,\"cardriver_DQN_arch1\" + str(score))    \n",
    "\n",
    "# save the final model\n",
    "agent.save_obj(\"cardriver_DQN_arch1_final\"+ str(score))\n",
    "elapsed_time = time.time() - start_time\n",
    "print(elapsed_time)"
   ]
  },
  {
   "cell_type": "markdown",
   "metadata": {},
   "source": [
    "### Tracking Convergence and Reward"
   ]
  },
  {
   "cell_type": "code",
   "execution_count": 29,
   "metadata": {},
   "outputs": [
    {
     "data": {
      "text/plain": [
       "[<matplotlib.lines.Line2D at 0x1d6eaf59910>]"
      ]
     },
     "execution_count": 29,
     "metadata": {},
     "output_type": "execute_result"
    },
    {
     "data": {
      "image/png": "[encoded data removed]",
      "text/plain": [
       "<Figure size 432x288 with 1 Axes>"
      ]
     },
     "metadata": {
      "needs_background": "light"
     },
     "output_type": "display_data"
    }
   ],
   "source": [
    "values = States_track['3-0-0']['4-3']\n",
    "plt.plot(values)\n",
    "#print(values)"
   ]
  },
  {
   "cell_type": "code",
   "execution_count": 33,
   "metadata": {},
   "outputs": [
    {
     "data": {
      "text/plain": [
       "[<matplotlib.lines.Line2D at 0x1d6ede07a00>]"
      ]
     },
     "execution_count": 33,
     "metadata": {},
     "output_type": "execute_result"
    },
    {
     "data": {
      "image/png": "[encoded data removed]",
      "text/plain": [
       "<Figure size 432x288 with 1 Axes>"
      ]
     },
     "metadata": {
      "needs_background": "light"
     },
     "output_type": "display_data"
    }
   ],
   "source": [
    "values = States_track['3-0-0']['3-4']\n",
    "plt.plot(values)"
   ]
  },
  {
   "cell_type": "code",
   "execution_count": 40,
   "metadata": {},
   "outputs": [
    {
     "data": {
      "text/plain": [
       "[<matplotlib.lines.Line2D at 0x1d6ec2b46a0>]"
      ]
     },
     "execution_count": 40,
     "metadata": {},
     "output_type": "execute_result"
    },
    {
     "data": {
      "image/png": "[encoded data removed]",
      "text/plain": [
       "<Figure size 432x288 with 1 Axes>"
      ]
     },
     "metadata": {
      "needs_background": "light"
     },
     "output_type": "display_data"
    }
   ],
   "source": [
    "values = States_track['3-0-0']['4-1']\n",
    "plt.plot(values)"
   ]
  },
  {
   "cell_type": "code",
   "execution_count": null,
   "metadata": {},
   "outputs": [],
   "source": [
    "#States_track['3-0-0']['3-4']"
   ]
  },
  {
   "cell_type": "code",
   "execution_count": 19,
   "metadata": {},
   "outputs": [
    {
     "name": "stdout",
     "output_type": "stream",
     "text": [
      "5000\n"
     ]
    }
   ],
   "source": [
    "print(len(rewards_per_episode))"
   ]
  },
  {
   "cell_type": "code",
   "execution_count": 45,
   "metadata": {},
   "outputs": [
    {
     "data": {
      "image/png": "[encoded data removed]",
      "text/plain": [
       "<Figure size 576x288 with 1 Axes>"
      ]
     },
     "metadata": {
      "needs_background": "light"
     },
     "output_type": "display_data"
    }
   ],
   "source": [
    "# plot rewards \n",
    "\n",
    "plt.figure(0, figsize=(8,4))\n",
    "plt.title('Rewards for every episode')\n",
    "xaxis = np.asarray(range(0, len(rewards_per_episode)))\n",
    "plt.plot(xaxis,np.asarray(rewards_per_episode))\n",
    "plt.show()"
   ]
  },
  {
   "cell_type": "markdown",
   "metadata": {},
   "source": [
    "#### Epsilon-decay sample function"
   ]
  },
  {
   "cell_type": "markdown",
   "metadata": {},
   "source": [
    "<div class=\"alert alert-block alert-info\">\n",
    "Try building a similar epsilon-decay function for your model.\n",
    "</div>"
   ]
  },
  {
   "cell_type": "code",
   "execution_count": 23,
   "metadata": {},
   "outputs": [],
   "source": [
    "time = np.arange(0,10000)\n",
    "epsilon = []\n",
    "for i in range(0,10000):\n",
    "    epsilon.append(0 + (1 - 0) * np.exp(-0.0009*i))"
   ]
  },
  {
   "cell_type": "code",
   "execution_count": 24,
   "metadata": {},
   "outputs": [
    {
     "data": {
      "image/png": "[encoded data removed]",
      "text/plain": [
       "<Figure size 432x288 with 1 Axes>"
      ]
     },
     "metadata": {
      "needs_background": "light"
     },
     "output_type": "display_data"
    }
   ],
   "source": [
    "plt.plot(time, epsilon)\n",
    "plt.show()"
   ]
  },
  {
   "cell_type": "code",
   "execution_count": null,
   "metadata": {},
   "outputs": [],
   "source": []
  }
 ],
 "metadata": {
  "kernelspec": {
   "display_name": "Python 3",
   "language": "python",
   "name": "python3"
  },
  "language_info": {
   "codemirror_mode": {
    "name": "ipython",
    "version": 3
   },
   "file_extension": ".py",
   "mimetype": "text/x-python",
   "name": "python",
   "nbconvert_exporter": "python",
   "pygments_lexer": "ipython3",
   "version": "3.8.5"
  }
 },
 "nbformat": 4,
 "nbformat_minor": 2
}
